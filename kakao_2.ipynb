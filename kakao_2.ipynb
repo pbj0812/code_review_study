{
 "cells": [
  {
   "cell_type": "code",
   "execution_count": 568,
   "metadata": {},
   "outputs": [
    {
     "data": {
      "text/plain": [
       "'\\nhttp://tech.kakao.com/2017/09/27/kakao-blind-recruitment-round-1/\\n'"
      ]
     },
     "execution_count": 568,
     "metadata": {},
     "output_type": "execute_result"
    }
   ],
   "source": [
    "'''\n",
    "http://tech.kakao.com/2017/09/27/kakao-blind-recruitment-round-1/\n",
    "'''"
   ]
  },
  {
   "cell_type": "code",
   "execution_count": 586,
   "metadata": {},
   "outputs": [],
   "source": [
    "test_example = ['1S2D*3T', '1D2S#10S', '1D2S0T', '1S*2T*3S', '1D#2S*3S', \n",
    "                '1T2D3D#', '1D2S3T*']"
   ]
  },
  {
   "cell_type": "code",
   "execution_count": 587,
   "metadata": {},
   "outputs": [],
   "source": [
    "dartResult = test_example[6]"
   ]
  },
  {
   "cell_type": "code",
   "execution_count": 588,
   "metadata": {},
   "outputs": [],
   "source": [
    "letterSplit = list(dartResult)"
   ]
  },
  {
   "cell_type": "code",
   "execution_count": 589,
   "metadata": {},
   "outputs": [],
   "source": [
    "result = []"
   ]
  },
  {
   "cell_type": "code",
   "execution_count": 590,
   "metadata": {},
   "outputs": [
    {
     "name": "stdout",
     "output_type": "stream",
     "text": [
      "1\n",
      "D\n",
      "ok\n",
      "2\n",
      "S\n",
      "ok\n",
      "3\n",
      "T\n",
      "ok\n",
      "*\n",
      "ok\n"
     ]
    }
   ],
   "source": [
    "for i in range(len(letterSplit)):\n",
    "    print(letterSplit[i])\n",
    "    if letterSplit[i] in ('S','D','T','*','#'):\n",
    "        print('ok')\n",
    "        result.append(letterSplit[i])\n",
    "    else:\n",
    "        if len(result) == 0:\n",
    "            result.append(letterSplit[i])\n",
    "        else:\n",
    "            if (ord(result[-1]) >= 48) & (ord(result[-1]) <= 57):\n",
    "                result[-1] = result[-1] + letterSplit[i]\n",
    "            else:\n",
    "                result.append(letterSplit[i])"
   ]
  },
  {
   "cell_type": "code",
   "execution_count": 591,
   "metadata": {},
   "outputs": [
    {
     "data": {
      "text/plain": [
       "['1', 'D', '2', 'S', '3', 'T', '*']"
      ]
     },
     "execution_count": 591,
     "metadata": {},
     "output_type": "execute_result"
    }
   ],
   "source": [
    "result"
   ]
  },
  {
   "cell_type": "code",
   "execution_count": 592,
   "metadata": {},
   "outputs": [],
   "source": [
    "result2 = []"
   ]
  },
  {
   "cell_type": "code",
   "execution_count": 593,
   "metadata": {},
   "outputs": [],
   "source": [
    "for ii in result:\n",
    "    if ii == 'S':\n",
    "        result2.append('**1')\n",
    "    elif ii == 'D':\n",
    "        result2.append('**2')\n",
    "    elif ii == 'T':\n",
    "        result2.append('**3')\n",
    "    elif ii == '*':\n",
    "        result2.append('+double')\n",
    "    elif ii == '#':\n",
    "        result2.append('*(-1)')\n",
    "    else:\n",
    "        result2.append('+'+ii)"
   ]
  },
  {
   "cell_type": "code",
   "execution_count": 594,
   "metadata": {},
   "outputs": [
    {
     "data": {
      "text/plain": [
       "['+1', '**2', '+2', '**1', '+3', '**3', '+double']"
      ]
     },
     "execution_count": 594,
     "metadata": {},
     "output_type": "execute_result"
    }
   ],
   "source": [
    "result2"
   ]
  },
  {
   "cell_type": "code",
   "execution_count": 595,
   "metadata": {},
   "outputs": [],
   "source": [
    "result3 = ''.join(result2)"
   ]
  },
  {
   "cell_type": "code",
   "execution_count": 596,
   "metadata": {},
   "outputs": [
    {
     "data": {
      "text/plain": [
       "'+1**2+2**1+3**3+double'"
      ]
     },
     "execution_count": 596,
     "metadata": {},
     "output_type": "execute_result"
    }
   ],
   "source": [
    "result3"
   ]
  },
  {
   "cell_type": "code",
   "execution_count": 597,
   "metadata": {},
   "outputs": [
    {
     "name": "stdout",
     "output_type": "stream",
     "text": [
      "['', '1**2', '2**1', '3**3', 'double']\n"
     ]
    }
   ],
   "source": [
    "result4 = result3.split('+')\n",
    "print(result4)"
   ]
  },
  {
   "cell_type": "code",
   "execution_count": 598,
   "metadata": {},
   "outputs": [
    {
     "name": "stdout",
     "output_type": "stream",
     "text": [
      "['1**2', '2**1', '3**3', 'double']\n"
     ]
    }
   ],
   "source": [
    "result4 = result4[1:]\n",
    "print(result4)"
   ]
  },
  {
   "cell_type": "code",
   "execution_count": 599,
   "metadata": {},
   "outputs": [],
   "source": [
    "result5 = []"
   ]
  },
  {
   "cell_type": "code",
   "execution_count": 600,
   "metadata": {},
   "outputs": [],
   "source": [
    "for i in range(len(result4)):\n",
    "    if result4[i] == 'double':\n",
    "        if i == 1:\n",
    "            result5[0] = result5[0]*2\n",
    "        elif i >= 2:\n",
    "            result5[-1] = result5[-1]*2\n",
    "            result5[-2] = result5[-2]*2\n",
    "        else:\n",
    "            pass\n",
    "    else:\n",
    "        result5.append(eval(result4[i]))"
   ]
  },
  {
   "cell_type": "code",
   "execution_count": 601,
   "metadata": {},
   "outputs": [
    {
     "data": {
      "text/plain": [
       "[1, 4, 54]"
      ]
     },
     "execution_count": 601,
     "metadata": {},
     "output_type": "execute_result"
    }
   ],
   "source": [
    "result5"
   ]
  },
  {
   "cell_type": "code",
   "execution_count": 602,
   "metadata": {},
   "outputs": [
    {
     "data": {
      "text/plain": [
       "59"
      ]
     },
     "execution_count": 602,
     "metadata": {},
     "output_type": "execute_result"
    }
   ],
   "source": [
    "sum(result5)"
   ]
  }
 ],
 "metadata": {
  "kernelspec": {
   "display_name": "Python 3",
   "language": "python",
   "name": "python3"
  },
  "language_info": {
   "codemirror_mode": {
    "name": "ipython",
    "version": 3
   },
   "file_extension": ".py",
   "mimetype": "text/x-python",
   "name": "python",
   "nbconvert_exporter": "python",
   "pygments_lexer": "ipython3",
   "version": "3.5.6"
  }
 },
 "nbformat": 4,
 "nbformat_minor": 2
}
