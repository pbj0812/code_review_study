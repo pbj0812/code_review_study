{
 "cells": [
  {
   "cell_type": "code",
   "execution_count": 157,
   "metadata": {},
   "outputs": [],
   "source": [
    "n_list = [1, 2, 2, 1, 1, 10]\n",
    "t_list = [1, 10, 1, 1, 1, 60]\n",
    "m_list = [5, 2, 2, 5, 1, 45]\n",
    "timetable_list = [['08:00', '08:01', '08:02', '08:03'], ['09:10', '09:09', '08:00'], \n",
    "                  ['09:00', '09:00', '09:00', '09:00'], ['00:01', '00:01', '00:01', '00:01', '00:01'], ['23:59'],\n",
    "                 ['23:59','23:59', '23:59', '23:59', '23:59', '23:59', '23:59', '23:59', '23:59', '23:59', '23:59', \n",
    "                  '23:59', '23:59', '23:59', '23:59', '23:59']]"
   ]
  },
  {
   "cell_type": "code",
   "execution_count": 158,
   "metadata": {},
   "outputs": [],
   "source": [
    "# n : 셔틀 운행 횟수\n",
    "# t : 셔틀 운행 간격\n",
    "# m : 한 셔틀에 탈 수 있는 최대 크루 수\n",
    "# timetable : 크루가 대기열에 도착하는 시간"
   ]
  },
  {
   "cell_type": "code",
   "execution_count": 159,
   "metadata": {},
   "outputs": [],
   "source": [
    "goal = 3"
   ]
  },
  {
   "cell_type": "code",
   "execution_count": 160,
   "metadata": {},
   "outputs": [],
   "source": [
    "n = n_list[goal]\n",
    "t = t_list[goal]\n",
    "m = m_list[goal]\n",
    "timetable = timetable_list[goal]"
   ]
  },
  {
   "cell_type": "code",
   "execution_count": 161,
   "metadata": {},
   "outputs": [],
   "source": [
    "crew_time = []"
   ]
  },
  {
   "cell_type": "code",
   "execution_count": 162,
   "metadata": {},
   "outputs": [
    {
     "name": "stdout",
     "output_type": "stream",
     "text": [
      "1\n",
      "1\n",
      "1\n",
      "1\n",
      "1\n"
     ]
    }
   ],
   "source": [
    "for i in timetable:\n",
    "    hour, minute = i.split(':')\n",
    "    hour = int(hour)\n",
    "    minute = int(minute)\n",
    "    minute+=hour*60\n",
    "    print(minute)\n",
    "    crew_time.append(minute)"
   ]
  },
  {
   "cell_type": "code",
   "execution_count": 163,
   "metadata": {},
   "outputs": [
    {
     "data": {
      "text/plain": [
       "[1, 1, 1, 1, 1]"
      ]
     },
     "execution_count": 163,
     "metadata": {},
     "output_type": "execute_result"
    }
   ],
   "source": [
    "crew_time"
   ]
  },
  {
   "cell_type": "code",
   "execution_count": 164,
   "metadata": {},
   "outputs": [],
   "source": [
    "bus_time = []"
   ]
  },
  {
   "cell_type": "code",
   "execution_count": 165,
   "metadata": {},
   "outputs": [],
   "source": [
    "for i in range(n):\n",
    "    bus_time.append(60*9 + i*t)"
   ]
  },
  {
   "cell_type": "code",
   "execution_count": 166,
   "metadata": {},
   "outputs": [
    {
     "data": {
      "text/plain": [
       "[540]"
      ]
     },
     "execution_count": 166,
     "metadata": {},
     "output_type": "execute_result"
    }
   ],
   "source": [
    "bus_time"
   ]
  },
  {
   "cell_type": "code",
   "execution_count": 167,
   "metadata": {},
   "outputs": [
    {
     "name": "stdout",
     "output_type": "stream",
     "text": [
      "i :  540 j :  1\n",
      "1\n"
     ]
    }
   ],
   "source": [
    "for i in bus_time:\n",
    "    for j in crew_time:\n",
    "        cnt = 0\n",
    "        if j <= i:\n",
    "            print('i : ', i ,'j : ', j)\n",
    "            cnt += 1\n",
    "            print(cnt)\n",
    "        if cnt == m:\n",
    "            crew_time = crew_time[cnt:]\n",
    "            print('crew : ', crew_time)\n",
    "        break"
   ]
  },
  {
   "cell_type": "code",
   "execution_count": 168,
   "metadata": {},
   "outputs": [],
   "source": [
    "a = [1, 2, 3]\n",
    "del a[0]"
   ]
  },
  {
   "cell_type": "code",
   "execution_count": 169,
   "metadata": {},
   "outputs": [
    {
     "data": {
      "text/plain": [
       "[2, 3]"
      ]
     },
     "execution_count": 169,
     "metadata": {},
     "output_type": "execute_result"
    }
   ],
   "source": [
    "a"
   ]
  },
  {
   "cell_type": "code",
   "execution_count": null,
   "metadata": {},
   "outputs": [],
   "source": []
  },
  {
   "cell_type": "code",
   "execution_count": null,
   "metadata": {},
   "outputs": [],
   "source": []
  }
 ],
 "metadata": {
  "kernelspec": {
   "display_name": "Python 3",
   "language": "python",
   "name": "python3"
  },
  "language_info": {
   "codemirror_mode": {
    "name": "ipython",
    "version": 3
   },
   "file_extension": ".py",
   "mimetype": "text/x-python",
   "name": "python",
   "nbconvert_exporter": "python",
   "pygments_lexer": "ipython3",
   "version": "3.6.4"
  }
 },
 "nbformat": 4,
 "nbformat_minor": 2
}
